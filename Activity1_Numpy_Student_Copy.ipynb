{
 "cells": [
  {
   "cell_type": "markdown",
   "metadata": {
    "id": "A4GF3lV6jm5x"
   },
   "source": [
    "# **Activity 1: NumPy Exercise**\n",
    "\n",
    "**Objective:**\n",
    "\n",
    "Practice NumPy's array manipulation, indexing, and mathematical functions by solving problems related to basic data analysis and matrix operations."
   ]
  },
  {
   "cell_type": "markdown",
   "metadata": {
    "id": "Pq3P9XLbjVU4"
   },
   "source": [
    "## **Part 1**"
   ]
  },
  {
   "cell_type": "markdown",
   "metadata": {
    "id": "VkOXGCuiLGR9"
   },
   "source": [
    "#### 1. Import the numpy package under the name `np`\n"
   ]
  },
  {
   "cell_type": "code",
   "execution_count": null,
   "metadata": {
    "id": "DhbEnfx8O314"
   },
   "outputs": [],
   "source": [
    "#Langones, Miguel Paolo F.\n",
    "import numpy as np"
   ]
  },
  {
   "cell_type": "markdown",
   "metadata": {
    "id": "ktNjFh4pO-5C"
   },
   "source": [
    "#### 2. Print the numpy version"
   ]
  },
  {
   "cell_type": "code",
   "execution_count": null,
   "metadata": {
    "id": "7tZfwQhhPQoI"
   },
   "outputs": [],
   "source": [
    "import numpy as np\n",
    "\n",
    "print(np.__version__)"
   ]
  },
  {
   "cell_type": "markdown",
   "metadata": {
    "id": "D4V99t3oQRAB"
   },
   "source": [
    "#### 3. Create a null array of size 5"
   ]
  },
  {
   "cell_type": "code",
   "execution_count": null,
   "metadata": {
    "id": "XnL-QmA_QYa2"
   },
   "outputs": [],
   "source": [
    "import numpy as np\n",
    "null_array = np.zeros(5)\n",
    "print(null_array)\n"
   ]
  },
  {
   "cell_type": "markdown",
   "metadata": {
    "id": "x9tAEjPlQcnh"
   },
   "source": [
    "#### 4. Create a null array of size 15 but the seventh value which is 1"
   ]
  },
  {
   "cell_type": "code",
   "execution_count": null,
   "metadata": {
    "id": "VgwfRV6OQlGk"
   },
   "outputs": [],
   "source": [
    "import numpy as np\n",
    "null_array = np.zeros(15)\n",
    "null_array[6] = 1\n",
    "print(null_array)"
   ]
  },
  {
   "cell_type": "markdown",
   "metadata": {
    "id": "a5_Af-hYTi-X"
   },
   "source": [
    "#### 5. Create a 4x4 matrix with values ranging from 0 to 11"
   ]
  },
  {
   "cell_type": "code",
   "execution_count": null,
   "metadata": {
    "id": "HSlLeK5YQ5Lo"
   },
   "outputs": [],
   "source": [
    "import numpy as np\n",
    "\n",
    "arr = np.array([0, 1, 2, 3, 4, 5, 6, 7, 8, 9, 10, 11, 12, 13, 14, 15])\n",
    "\n",
    "newarr = arr.reshape(4, 4)\n",
    "\n",
    "print(newarr)"
   ]
  },
  {
   "cell_type": "markdown",
   "metadata": {
    "id": "nLJvzwjfVXOL"
   },
   "source": [
    "#### 6. Find indices of non-zero elements from [1,2,4,0,4,0]"
   ]
  },
  {
   "cell_type": "code",
   "execution_count": null,
   "metadata": {
    "id": "o8vyHuWfVbXu"
   },
   "outputs": [],
   "source": [
    "import numpy as np\n",
    "\n",
    "arr = np.array([1, 2, 4, 0, 4, 0])\n",
    "\n",
    "filter_arr = arr > 0\n",
    "\n",
    "newarr = arr[filter_arr]\n",
    "\n",
    "print(newarr)\n"
   ]
  },
  {
   "cell_type": "markdown",
   "metadata": {
    "id": "z6OrgicLV6C-"
   },
   "source": [
    "#### 7. Create a 4x4x4 array with random values"
   ]
  },
  {
   "cell_type": "code",
   "execution_count": null,
   "metadata": {
    "collapsed": true,
    "id": "MhcNEK55V1UF"
   },
   "outputs": [],
   "source": [
    "from numpy import random\n",
    "\n",
    "x = random.randint(100, size=(4, 4, 4))\n",
    "\n",
    "print(x)"
   ]
  },
  {
   "cell_type": "markdown",
   "metadata": {
    "id": "aLqeru_NWso3"
   },
   "source": [
    "#### 8. Create a 15x15 array with random assigned values and find the min and max values"
   ]
  },
  {
   "cell_type": "code",
   "execution_count": null,
   "metadata": {
    "collapsed": true,
    "id": "eSpxGZ2GWqDo"
   },
   "outputs": [],
   "source": [
    "from numpy import random\n",
    "\n",
    "x = random.rand(15, 15)\n",
    "\n",
    "min_value = x.min()\n",
    "max_value = x.max()\n",
    "\n",
    "print(x)\n",
    "print(min_value, max_value)\n"
   ]
  },
  {
   "cell_type": "code",
   "execution_count": null,
   "metadata": {
    "id": "cUFXQqkHW6qB"
   },
   "outputs": [],
   "source": []
  },
  {
   "cell_type": "markdown",
   "metadata": {
    "id": "jIAQPvclbEVr"
   },
   "source": [
    "#### 9. Create a random array of size 25 and find the mean value"
   ]
  },
  {
   "cell_type": "code",
   "execution_count": null,
   "metadata": {
    "id": "q91Y8GMebPeY"
   },
   "outputs": [],
   "source": [
    "from numpy import random\n",
    "\n",
    "x = random.randint(69, size=(25))\n",
    "\n",
    "mean = x.mean()\n",
    "\n",
    "print(x)\n",
    "print(mean)"
   ]
  },
  {
   "cell_type": "markdown",
   "metadata": {
    "id": "1z3JFRgAkmNP"
   },
   "source": [
    "#### 10.  Show your codes\n",
    "\n",
    "Given:\n",
    "\n",
    "array 1 = ([2, 4, 9])\\\n",
    "array 2 = ([1, 14, 6])\n",
    "\n",
    "  *Note: Recreate the arrays*"
   ]
  },
  {
   "cell_type": "code",
   "execution_count": null,
   "metadata": {
    "id": "jiC8LUdknLPN"
   },
   "outputs": [],
   "source": [
    "import numpy as np\n",
    "\n",
    "array1 = np.array([2, 4, 9])\n",
    "array2 = np.array([1, 14, 6])\n",
    "\n",
    "print(array1)\n",
    "print(array2)"
   ]
  },
  {
   "cell_type": "markdown",
   "metadata": {
    "id": "QFPFjpSSmecQ"
   },
   "source": [
    "10.1 What is the result of *a + b*?"
   ]
  },
  {
   "cell_type": "code",
   "execution_count": null,
   "metadata": {
    "id": "Yqcpj3ccm5La"
   },
   "outputs": [],
   "source": [
    "import numpy as np\n",
    "\n",
    "array1 = np.array([2, 4, 9])\n",
    "array2 = np.array([1, 14, 6])\n",
    "\n",
    "print(np.add(array1, array2))"
   ]
  },
  {
   "cell_type": "markdown",
   "metadata": {
    "id": "t0__U1Bum7k6"
   },
   "source": [
    "10.2 What is the result of *a - b*?"
   ]
  },
  {
   "cell_type": "code",
   "execution_count": null,
   "metadata": {
    "id": "SmuAcAubnCNO"
   },
   "outputs": [],
   "source": [
    "import numpy as np\n",
    "\n",
    "array1 = np.array([2, 4, 9])\n",
    "array2 = np.array([1, 14, 6])\n",
    "\n",
    "print(np.subtract(array1, array2))"
   ]
  },
  {
   "cell_type": "markdown",
   "metadata": {
    "id": "5dbiR_Urm5fJ"
   },
   "source": [
    "10.3 What is the result of *a × b*?"
   ]
  },
  {
   "cell_type": "code",
   "execution_count": null,
   "metadata": {
    "id": "Zpnb_vGqksSF"
   },
   "outputs": [],
   "source": [
    "import numpy as np\n",
    "\n",
    "array1 = np.array([2, 4, 9])\n",
    "array2 = np.array([1, 14, 6])\n",
    "\n",
    "print(np.multiply(array1, array2))"
   ]
  },
  {
   "cell_type": "markdown",
   "metadata": {
    "id": "jHTozQuZp2WM"
   },
   "source": [
    "10.4 What is the result of *a ÷ b*?"
   ]
  },
  {
   "cell_type": "code",
   "execution_count": null,
   "metadata": {
    "id": "9Jx0GzTIqArP"
   },
   "outputs": [],
   "source": [
    "import numpy as np\n",
    "\n",
    "array1 = np.array([2, 4, 9])\n",
    "array2 = np.array([1, 14, 6])\n",
    "\n",
    "print(np.divide(array1, array2))"
   ]
  },
  {
   "cell_type": "markdown",
   "metadata": {
    "id": "I3FhrIORjZsA"
   },
   "source": [
    "## **Part 2**"
   ]
  },
  {
   "cell_type": "markdown",
   "metadata": {
    "id": "JDa9MTb2wXPi"
   },
   "source": [
    "##### NumPy Array Indexing"
   ]
  },
  {
   "cell_type": "markdown",
   "metadata": {
    "id": "M4rwQgDqrLoo"
   },
   "source": [
    "\n",
    "Given the following matrix:\n",
    "\n",
    "        [[10, 20, 30],\n",
    "        [40, 50, 60],\n",
    "        [70, 80, 90]]\n",
    "\n",
    " 1. Recreate the matrix"
   ]
  },
  {
   "cell_type": "code",
   "execution_count": null,
   "metadata": {
    "id": "Ra4n8YBQr2RZ"
   },
   "outputs": [],
   "source": [
    "import numpy as np\n",
    "\n",
    "arr = np.array([[10, 20, 30], [40,50,60], [70,80,90]])\n",
    "\n",
    "print(arr)"
   ]
  },
  {
   "cell_type": "markdown",
   "metadata": {
    "id": "br-ZYkK3uo24"
   },
   "source": [
    "1. Write code to extract the element 50."
   ]
  },
  {
   "cell_type": "code",
   "execution_count": null,
   "metadata": {
    "id": "kI7jzTiYrTep"
   },
   "outputs": [],
   "source": [
    "import numpy as np\n",
    "\n",
    "arr = np.array([[10,20,30], [40,50,60], [70,80,90]])\n",
    "\n",
    "print(arr[1, 1])"
   ]
  },
  {
   "cell_type": "markdown",
   "metadata": {
    "id": "H1OsD655sEX6"
   },
   "source": [
    "2. **Extract a Row**\\\n",
    "\\\n",
    "Using the same array arr, extract the second row as a separate NumPy array."
   ]
  },
  {
   "cell_type": "code",
   "execution_count": null,
   "metadata": {
    "id": "jf-K5No5sRob"
   },
   "outputs": [],
   "source": [
    "import numpy as np\n",
    "\n",
    "arr = np.array([[10, 20, 30], [40,50,60], [70,80,90]])\n",
    "\n",
    "print(arr[1])"
   ]
  },
  {
   "cell_type": "markdown",
   "metadata": {
    "id": "qk1-NvWjsVC3"
   },
   "source": [
    "3.  **Extract a Column**\\\n",
    "\\\n",
    "Using arr, extract the third column as a separate NumPy array."
   ]
  },
  {
   "cell_type": "code",
   "execution_count": null,
   "metadata": {
    "id": "d1s1c5q9sgID"
   },
   "outputs": [],
   "source": [
    "import numpy as np\n",
    "\n",
    "arr = np.array([[10, 20, 30], [40,50,60], [70,80,90]])\n",
    "\n",
    "print(arr[:, 2])"
   ]
  },
  {
   "cell_type": "markdown",
   "metadata": {
    "id": "DIe9pf8nskUZ"
   },
   "source": [
    "4. **Extract a Submatrix**\\\n",
    "\\\n",
    "Extract the following 2×2 submatrix from arr:\\\n",
    "\n",
    "  [[50 60]\\\n",
    " [80 90]]"
   ]
  },
  {
   "cell_type": "code",
   "execution_count": null,
   "metadata": {
    "id": "37dC5sA3ssZV"
   },
   "outputs": [],
   "source": [
    "import numpy as np\n",
    "\n",
    "arr = np.array([[10, 20, 30], [40,50,60], [70,80,90]])\n",
    "\n",
    "submatrix = arr[1:3, 1:3]\n",
    "\n",
    "print(submatrix)"
   ]
  },
  {
   "cell_type": "markdown",
   "metadata": {
    "id": "ABs-32sKwOcg"
   },
   "source": [
    "##### NumPy Array Slicing"
   ]
  },
  {
   "cell_type": "markdown",
   "metadata": {
    "id": "T7kcCxr9uGAO"
   },
   "source": [
    "Given the following matrix:\n",
    "\n",
    "                [ 1,  2,  3,  4],\n",
    "                [ 5,  6,  7,  8],\n",
    "                [ 9, 10, 11, 12]]\n",
    "\n",
    "1. Recreate the matrix"
   ]
  },
  {
   "cell_type": "code",
   "execution_count": null,
   "metadata": {
    "id": "CvzBw2FpwasA"
   },
   "outputs": [],
   "source": [
    "import numpy as np\n",
    "\n",
    "arr = np.array([[1, 2, 3, 4], [5, 6, 7, 8], [9, 10, 11, 12]])\n",
    "\n",
    "print(arr)"
   ]
  },
  {
   "cell_type": "markdown",
   "metadata": {
    "id": "YaaIsRTVwlof"
   },
   "source": [
    "2. Write code to extract the following 2×2 subarray:\n",
    "\n",
    "        [[ 6  7]\n",
    "        [10 11]]"
   ]
  },
  {
   "cell_type": "code",
   "execution_count": null,
   "metadata": {
    "id": "PpyFr5wYwuLN"
   },
   "outputs": [],
   "source": [
    "import numpy as np\n",
    "\n",
    "arr = np.array([[1, 2, 3, 4], [5, 6, 7, 8], [9, 10, 11, 12]])\n",
    "\n",
    "submatrix = arr[1:3, 1:3]\n",
    "\n",
    "print(submatrix)"
   ]
  },
  {
   "cell_type": "markdown",
   "metadata": {
    "id": "poinisgbw02m"
   },
   "source": [
    "3. Using the same matrix, write code to extract every other element from the first row (expected output: [1, 3])."
   ]
  },
  {
   "cell_type": "code",
   "execution_count": null,
   "metadata": {
    "id": "9UyP9S3Ww-wf"
   },
   "outputs": [],
   "source": [
    "import numpy as np\n",
    "\n",
    "arr = np.array([[1, 2, 3, 4], [5, 6, 7, 8], [9, 10, 11, 12]])\n",
    "\n",
    "arr2 = arr[0, ::2]\n",
    "\n",
    "print(arr2)"
   ]
  },
  {
   "cell_type": "markdown",
   "metadata": {
    "id": "0it7IxPqxTq3"
   },
   "source": [
    "4. Write code to reverse the order of rows in the matrix"
   ]
  },
  {
   "cell_type": "code",
   "execution_count": null,
   "metadata": {
    "id": "-tqPKhrmxWP7"
   },
   "outputs": [],
   "source": [
    "import numpy as np\n",
    "\n",
    "arr = np.array([[1, 2, 3, 4], [5, 6, 7, 8], [9, 10, 11, 12]])\n",
    "\n",
    "arr2 = arr[::-1]\n",
    "\n",
    "print(arr2)"
   ]
  },
  {
   "cell_type": "markdown",
   "metadata": {
    "id": "C8EWGps7xfYl"
   },
   "source": [
    "5. Write code to extract the last two columns of the matrix."
   ]
  },
  {
   "cell_type": "code",
   "execution_count": null,
   "metadata": {
    "id": "F7sJw1N1xiKC"
   },
   "outputs": [],
   "source": [
    "import numpy as np\n",
    "\n",
    "arr = np.array([[1, 2, 3, 4], [5, 6, 7, 8], [9, 10, 11, 12]])\n",
    "\n",
    "print(arr[:, 2:4])"
   ]
  },
  {
   "cell_type": "markdown",
   "metadata": {
    "id": "_8sVIp1q2MYw"
   },
   "source": [
    "##### NumPy Array Joins\n",
    "\n",
    "1. Given the following arrays:\n",
    "\n",
    "        arr1 = ([11, 7, 33])\\\n",
    "        arr2 = ([44, 5, 18])\n",
    "\n",
    "1.1 Recreate the arrays"
   ]
  },
  {
   "cell_type": "code",
   "execution_count": null,
   "metadata": {
    "id": "-1H2IYDs2hMx"
   },
   "outputs": [],
   "source": [
    "import numpy as np\n",
    "\n",
    "array1 = np.array([11, 7, 33])\n",
    "array2 = np.array([44, 5, 18])\n",
    "\n",
    "print(array1)\n",
    "print(array2)"
   ]
  },
  {
   "cell_type": "markdown",
   "metadata": {
    "id": "jJ-OxwEZ2ysr"
   },
   "source": [
    "2. Write code to join arr1 and arr2 into a single 1D array."
   ]
  },
  {
   "cell_type": "code",
   "execution_count": null,
   "metadata": {
    "id": "fyKL42Yv2ewQ"
   },
   "outputs": [],
   "source": [
    "import numpy as np\n",
    "\n",
    "array1 = np.array([11, 7, 33])\n",
    "array2 = np.array([44, 5, 18])\n",
    "\n",
    "print(np.concatenate((array1, array2)))"
   ]
  },
  {
   "cell_type": "markdown",
   "metadata": {
    "id": "1qiYH-0v25Z2"
   },
   "source": [
    "3. Using arr1 and arr2 from question 1, write code to stack them vertically into a 2D array."
   ]
  },
  {
   "cell_type": "code",
   "execution_count": null,
   "metadata": {
    "id": "MgR89wkS2_Nw"
   },
   "outputs": [],
   "source": [
    "import numpy as np\n",
    "\n",
    "array1 = np.array([11, 7, 33])\n",
    "array2 = np.array([44, 5, 18])\n",
    "\n",
    "print(np.stack((array1, array2), axis=1))"
   ]
  },
  {
   "cell_type": "markdown",
   "metadata": {
    "id": "mLanHC623JpJ"
   },
   "source": [
    "4. Given the 2D arrays:\n",
    "\n",
    "        arr1 = ([[1, 2],\n",
    "               [3, 4]])\n",
    "\n",
    "        arr2 = ([[5, 6],\n",
    "               [7, 8]])\n",
    "\n",
    "4.1 Recreate the arrays"
   ]
  },
  {
   "cell_type": "code",
   "execution_count": null,
   "metadata": {
    "id": "FDGnOATJ3JE4"
   },
   "outputs": [],
   "source": [
    "import numpy as np\n",
    "\n",
    "array1 = np.array([[1, 2], [3, 4]])\n",
    "array2 = np.array([[5, 6], [7, 8]])\n",
    "\n",
    "print(array1)\n",
    "print(array2)"
   ]
  },
  {
   "cell_type": "markdown",
   "metadata": {
    "id": "RyJFIfpo3wiA"
   },
   "source": [
    "5. Write code to join them horizontally (column-wise)."
   ]
  },
  {
   "cell_type": "code",
   "execution_count": null,
   "metadata": {
    "id": "0eHEY4N63zgT"
   },
   "outputs": [],
   "source": [
    "import numpy as np\n",
    "\n",
    "array1 = np.array([[1, 2], [3, 4]])\n",
    "array2 = np.array([[5, 6], [7, 8]])\n",
    "\n",
    "print(np.hstack((array1, array2)))"
   ]
  },
  {
   "cell_type": "markdown",
   "metadata": {
    "id": "encqt9P74ZSv"
   },
   "source": [
    "6. Using arr1 and arr2 from question 4, write code to join them vertically (row-wise).\n"
   ]
  },
  {
   "cell_type": "code",
   "execution_count": null,
   "metadata": {
    "id": "o-UjS1Kn4rS7"
   },
   "outputs": [],
   "source": [
    "import numpy as np\n",
    "\n",
    "array1 = np.array([[1, 2], [3, 4]])\n",
    "array2 = np.array([[5, 6], [7, 8]])\n",
    "\n",
    "print(np.vstack((array1, array2)))"
   ]
  },
  {
   "cell_type": "markdown",
   "metadata": {
    "id": "2l2umcfvjlXq"
   },
   "source": [
    "## **Part 3**"
   ]
  },
  {
   "cell_type": "markdown",
   "metadata": {
    "id": "-rs5StZQlvYg"
   },
   "source": [
    "### Task 1: Array Creation"
   ]
  },
  {
   "cell_type": "markdown",
   "metadata": {
    "id": "PKyTiCLulztg"
   },
   "source": [
    "Create the following arrays:\n",
    "\n",
    "- A 1D array of integers from 10 to 28, with a step of 2.\n",
    "- A 2D array with shape (4, 4) containing random integers between 1 and 50.\n",
    "- A 3D array of shape (2, 3, 4) filled with ones.\n",
    "\n"
   ]
  },
  {
   "cell_type": "code",
   "execution_count": null,
   "metadata": {
    "collapsed": true,
    "id": "GRWUhpV46cR4"
   },
   "outputs": [],
   "source": [
    "import numpy as np\n",
    "\n",
    "array1 = np.arange(10, 29, 2)\n",
    "print(array1, \"\\n\")\n",
    "\n",
    "array2 = np.random.randint(1, 51, size=(4, 4))\n",
    "print(array2, \"\\n\")\n",
    "\n",
    "array3 = np.ones((2, 3, 4), dtype=int)\n",
    "print(array3)\n"
   ]
  },
  {
   "cell_type": "markdown",
   "metadata": {
    "id": "yZPELZSx7ggA"
   },
   "source": [
    "### Task 2: Array Transformations\n",
    "Perform the following operations:\n",
    "- Reshape the 1D array to a 2D array with 2 rows.\n",
    "- Extract the last two rows of the 2D array (From Task 1)\n",
    "- Replace all even numbers in the 2D array with -1. (From Task 1)"
   ]
  },
  {
   "cell_type": "code",
   "execution_count": null,
   "metadata": {
    "id": "5EJrW4nw7sIE"
   },
   "outputs": [],
   "source": [
    "import numpy as np\n",
    "\n",
    "array1 = np.arange(10, 29, 2)\n",
    "reshaped_array = array1.reshape(2, -1)\n",
    "print(reshaped_array, \"\\n\")\n",
    "\n",
    "array2 = np.random.randint(1, 51, size=(4, 4))\n",
    "#print(array2) #original\n",
    "last_two_rows = array2[2:, :]\n",
    "print(last_two_rows, \"\\n\")\n",
    "\n",
    "array2_even_negatives = np.where(array2 % 2 == 0, -1, array2)\n",
    "print(array2_even_negatives)\n"
   ]
  },
  {
   "cell_type": "markdown",
   "metadata": {
    "id": "ZkDoNNBjn7nP"
   },
   "source": [
    "### Task 3: Statistical Operations"
   ]
  },
  {
   "cell_type": "markdown",
   "metadata": {
    "id": "87sRNKp0n7nP"
   },
   "source": [
    "Using the 2D array from **Task 1**, compute the following:\n",
    "\n",
    "- The mean, median, and standard deviation of the array. (From Task 1)\n",
    "- The sum of all elements along each row. (From Task 1)\n",
    "- The maximum value and its index in the entire array. (From Task 1)\n"
   ]
  },
  {
   "cell_type": "code",
   "execution_count": null,
   "metadata": {
    "id": "TEoMfRV68VlZ"
   },
   "outputs": [],
   "source": [
    "import numpy as np\n",
    "\n",
    "array2 = np.random.randint(1, 51, size=(4, 4))\n",
    "print(\"Original 2D array:\")\n",
    "print(array2)\n",
    "\n",
    "mean_value = np.mean(array2)\n",
    "median_value = np.median(array2)\n",
    "std_deviation = np.std(array2)\n",
    "\n",
    "print(\"\\nMean:\", mean_value)\n",
    "print(\"Median:\", median_value)\n",
    "print(\"Standard deviation:\", std_deviation)\n",
    "\n",
    "row_sums = np.sum(array2, axis=1)\n",
    "print(\"\\nSum:\", row_sums)\n",
    "\n",
    "max_value = np.max(array2)\n",
    "max_index = np.unravel_index(np.argmax(array2), array2.shape)\n",
    "\n",
    "print(\"\\nMaximum value:\", max_value)\n",
    "print(\"Index:\", max_index)"
   ]
  },
  {
   "cell_type": "markdown",
   "metadata": {
    "id": "T_X0kP3I9eWi"
   },
   "source": [
    "###  Task 4: Advanced Analysis on Large Arrays"
   ]
  },
  {
   "cell_type": "markdown",
   "metadata": {
    "id": "B6uTdro89kE7"
   },
   "source": [
    "- Create a (10, 10) array containing random floating-point numbers between 0 and 1.\n",
    "- Find the minimum value along each column.\n",
    "- Find the indices of the top 5 largest values in the entire array."
   ]
  },
  {
   "cell_type": "code",
   "execution_count": null,
   "metadata": {
    "id": "UwJw1MIn9ovK"
   },
   "outputs": [],
   "source": [
    "import numpy as np\n",
    "\n",
    "array = np.random.random((10, 10))\n",
    "\n",
    "print(\"10x10 array with random values:\")\n",
    "print(array)\n",
    "\n",
    "min_values = np.min(array, axis=0)\n",
    "print(\"\\nMinimum values along each column:\")\n",
    "print(min_values)\n",
    "\n",
    "five_indices = np.unravel_index(np.argsort(array.ravel())[-5:], array.shape)\n",
    "\n",
    "print(\"\\nIndices of the top 5 largest values in the entire array:\")\n",
    "print(five_indices)\n"
   ]
  }
 ],
 "metadata": {
  "colab": {
   "collapsed_sections": [
    "JDa9MTb2wXPi",
    "ABs-32sKwOcg"
   ],
   "provenance": []
  },
  "kernelspec": {
   "display_name": "Python 3",
   "name": "python3"
  },
  "language_info": {
   "name": "python"
  }
 },
 "nbformat": 4,
 "nbformat_minor": 0
}
